{
  "nbformat": 4,
  "nbformat_minor": 0,
  "metadata": {
    "colab": {
      "provenance": []
    },
    "kernelspec": {
      "name": "python3",
      "display_name": "Python 3"
    },
    "language_info": {
      "name": "python"
    }
  },
  "cells": [
    {
      "cell_type": "markdown",
      "source": [
        "Q1-What is Python, and why is it popular.\n",
        "  - python is a programming language.it is popular because it is easy to learn as well as implement and it have large number of active community and a vast collection of libraries that make development easier.\n",
        "\n",
        "\n",
        "\n"
      ],
      "metadata": {
        "id": "H2NZBmBKxxtS"
      }
    },
    {
      "cell_type": "markdown",
      "source": [
        "Q2-What is an interpreter in python.\n",
        "\n",
        "ANS-In Python, an interpreter is a program that directly executes the Python code, line by line, without compiling it into machine code first. The interpreter reads the Python code, analyzes it, and then executes it immediately."
      ],
      "metadata": {
        "id": "P89e1gCqx2Nk"
      }
    },
    {
      "cell_type": "markdown",
      "source": [
        "Q3-What are pre-defined keywords in Python.\n",
        "\n",
        "*   There are 35 reserved wordsin python that have special meaning and it can not be used as variable.some of the pre defined keywords are  and/as/if/elif etc.anyone can check all these keywords by using code help(keywords).\n",
        "\n"
      ],
      "metadata": {
        "id": "VwMWzRRXAhsc"
      }
    },
    {
      "cell_type": "markdown",
      "source": [
        "Q4-Can keywords be used as variable name.\n",
        "\n",
        "*   NO,pre defined keywords have their certain pre defined jobs in python so using them as variable are not allowed .however it can be done by refreshing the kernal but widely no user do such.\n",
        "\n"
      ],
      "metadata": {
        "id": "VZPm_DtdB0kF"
      }
    },
    {
      "cell_type": "markdown",
      "source": [
        "Q5-What is mutability in python.\n",
        "\n",
        "*   mutability means objects that are allowed to change/modify after its creation.list/string oblects are mutable in python where integer or float values are immutable.\n",
        "\n"
      ],
      "metadata": {
        "id": "mibSkNR1CpQS"
      }
    },
    {
      "cell_type": "markdown",
      "source": [
        "Q6-Why are lists mutable, but tuples are immutable.\n",
        "\n",
        "*   tuples are implemented as fixed size arrays which means their content cant be modified.it doesnt provide methods for adding/deleting its content where lists in other hand are allowed to add/delete its content .\n",
        "\n",
        "\n"
      ],
      "metadata": {
        "id": "npG0hlQxThhV"
      }
    },
    {
      "cell_type": "markdown",
      "source": [
        "Q7-What is the difference between “==” and “is” operators in Python.\n",
        "\n",
        "*   == operator are used to compare of two object and returns result like 'true' if given 2 objects are equal otherwise it gives output of 'false' if given objects are not equal.on the other hand 'is' is used to check only memory adderess.\n",
        "for mutable objects like lists,**==** and **is**can return different results while for immutable like integers **==** and **is** can returns different result.\n",
        "\n",
        "\n",
        "\n"
      ],
      "metadata": {
        "id": "zi_yNC1qNRXb"
      }
    },
    {
      "cell_type": "code",
      "source": [
        "'''\n",
        "Q8-What is logical operator in python?\n",
        "ANS-Logical Operators combines conditional statement and make decisions based on multiple situation/condition.\n",
        "there are 3 types of logical operator such as\n",
        "and/or/not\n",
        "'''\n",
        "#example of and operator.\n",
        "num=15\n",
        "if 10<=num<=20:\n",
        "  print('abc')\n",
        "else:\n",
        "  print('xyz')\n",
        "#example of or operator.\n",
        "age=int(input(\"your age\"))\n",
        "if age<1 or age>105:\n",
        "  print('invalid age')\n",
        "else:\n",
        "  print('valid age')\n",
        "#example of not operator.\n",
        "is_raining=True\n",
        "if not is_raining:\n",
        "  print(\"i will play cricket\")\n",
        "else:\n",
        "  print(\"i will watch tv\")"
      ],
      "metadata": {
        "colab": {
          "base_uri": "https://localhost:8080/"
        },
        "id": "m3K0T17UfbjX",
        "outputId": "6042bb80-348a-4aa4-bd06-f57f2265f92f"
      },
      "execution_count": null,
      "outputs": [
        {
          "output_type": "stream",
          "name": "stdout",
          "text": [
            "abc\n",
            "your age55\n",
            "valid age\n",
            "i will watch tv\n"
          ]
        }
      ]
    },
    {
      "cell_type": "markdown",
      "source": [
        "Q-9 What is type casting in Python.\n",
        "ANS-n Python, type casting is the process of converting a value from one data type to another. This is also known as type conversion.\n",
        "\n",
        "There are two types of type casting in Python:\n",
        "\n",
        "1. Implicit Type Casting: This is done automatically by Python when an operation is performed on two operands of different data types. For example, when you add an integer and a float, Python automatically converts the integer to a float before performing the addition.\n",
        "2. Explicit Type Casting: This is done manually by the programmer using built-in functions."
      ],
      "metadata": {
        "id": "xCz87lwNgwVt"
      }
    },
    {
      "cell_type": "code",
      "source": [
        "\"\"\"\n",
        "Q10-What is the difference between implicit and explicit type casting.\n",
        "ANS-implicit Type Casting: This is done automatically by Python when an operation is performed on two operands of different data types.\n",
        "For example, when you add an integer and a float, Python automatically converts the integer to a float before performing the addition\n",
        "where Explicit Type Casting is done manually by the programmer using built-in functions.\n",
        "for an example,changing a integer value to string.\n",
        "\"\"\"\n",
        "a=10\n",
        "b=4.5\n",
        "c=a+b\n",
        "print(c)\n",
        "type(c)"
      ],
      "metadata": {
        "colab": {
          "base_uri": "https://localhost:8080/"
        },
        "id": "WqL_JISYhOS_",
        "outputId": "d56099a6-39e7-46af-eb07-be4269c44350"
      },
      "execution_count": null,
      "outputs": [
        {
          "output_type": "stream",
          "name": "stdout",
          "text": [
            "14.5\n"
          ]
        },
        {
          "output_type": "execute_result",
          "data": {
            "text/plain": [
              "float"
            ]
          },
          "metadata": {},
          "execution_count": 16
        }
      ]
    },
    {
      "cell_type": "code",
      "source": [
        "#example of explicit type casting(Question number 10 ,part 2)\n",
        "x=10\n",
        "y=str(x)\n",
        "print(y)\n",
        "type(y)"
      ],
      "metadata": {
        "colab": {
          "base_uri": "https://localhost:8080/"
        },
        "id": "8fHbXo-RhjLG",
        "outputId": "5d80e6dc-8166-4a3a-dbf9-649dba8f6309"
      },
      "execution_count": null,
      "outputs": [
        {
          "output_type": "stream",
          "name": "stdout",
          "text": [
            "10\n"
          ]
        },
        {
          "output_type": "execute_result",
          "data": {
            "text/plain": [
              "str"
            ]
          },
          "metadata": {},
          "execution_count": 19
        }
      ]
    },
    {
      "cell_type": "markdown",
      "source": [
        "<!-- Q-11-What is the purpose of conditional statements in Python -->"
      ],
      "metadata": {
        "id": "i_FRazP9ky2y"
      }
    },
    {
      "cell_type": "markdown",
      "source": [
        "Q-11-What is the purpose of conditional statements in Python.\n",
        "\n",
        "\n",
        "ANS-\n",
        "Conditional statements allow you to execute different blocks of code depending on whether a condition is true or false.Conditional statements in Python is to control the flow of a program based on specific conditions or decision.Conditional statements control the flow of program, allowing us to skip or repeat certain sections of code."
      ],
      "metadata": {
        "id": "IikdaHGKk5Db"
      }
    },
    {
      "cell_type": "code",
      "source": [
        "\"\"\"\n",
        "Q-12-How does the elif statement work.\n",
        "\n",
        "ANS-\n",
        "The elif statement in Python is a combination of \"else\" and \"if\" statements.\n",
        "It allows you to check another condition if the initial \"if\" condition is false.\n",
        "example of elif statement.\n",
        "\"\"\"\n",
        "x = 12\n",
        "if x > 8:\n",
        "    print(\"x is greater than 8\")\n",
        "elif x == 5:\n",
        "    print(\"x is equal to 4\")\n",
        "else:\n",
        "    print(\"x is less than 4\")\n",
        "\n",
        "\n"
      ],
      "metadata": {
        "colab": {
          "base_uri": "https://localhost:8080/"
        },
        "id": "xM-zeDtH9O0S",
        "outputId": "cc5db8dc-7a55-4dba-fbef-4a63ab838e75"
      },
      "execution_count": null,
      "outputs": [
        {
          "output_type": "stream",
          "name": "stdout",
          "text": [
            "x is greater than 8\n"
          ]
        }
      ]
    },
    {
      "cell_type": "markdown",
      "source": [
        "Q-13-What is the difference between for and while loops.\n",
        "ANS-\n",
        "\n",
        "1.   For loops are designed for iterating over sequences, while while loops are used for repeating a block of code while a condition is true.\n",
        "List item\n",
        "2.   For loops know the number of iterations beforehand, whereas while loops do not.\n",
        "3. For loops automatically assign the loop variable, whereas while loops require explicit management of the loop condition.\n",
        "\n"
      ],
      "metadata": {
        "id": "shLHVUvB_G8L"
      }
    }
  ]
}